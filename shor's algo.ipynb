{
 "cells": [
  {
   "cell_type": "code",
   "execution_count": 2,
   "id": "b49c4cca",
   "metadata": {},
   "outputs": [
    {
     "name": "stdout",
     "output_type": "stream",
     "text": [
      "Requirement already satisfied: qiskit in c:\\users\\raibh\\appdata\\local\\programs\\python\\python39\\lib\\site-packages (1.1.0)\n",
      "Requirement already satisfied: rustworkx>=0.14.0 in c:\\users\\raibh\\appdata\\local\\programs\\python\\python39\\lib\\site-packages (from qiskit) (0.14.2)\n",
      "Requirement already satisfied: numpy<3,>=1.17 in c:\\users\\raibh\\appdata\\local\\programs\\python\\python39\\lib\\site-packages (from qiskit) (1.22.4)\n",
      "Requirement already satisfied: scipy>=1.5 in c:\\users\\raibh\\appdata\\local\\programs\\python\\python39\\lib\\site-packages (from qiskit) (1.7.3)\n",
      "Requirement already satisfied: sympy>=1.3 in c:\\users\\raibh\\appdata\\local\\programs\\python\\python39\\lib\\site-packages (from qiskit) (1.12.1)\n",
      "Requirement already satisfied: dill>=0.3 in c:\\users\\raibh\\appdata\\local\\programs\\python\\python39\\lib\\site-packages (from qiskit) (0.3.8)\n",
      "Requirement already satisfied: python-dateutil>=2.8.0 in c:\\users\\raibh\\appdata\\local\\programs\\python\\python39\\lib\\site-packages (from qiskit) (2.8.2)\n",
      "Requirement already satisfied: stevedore>=3.0.0 in c:\\users\\raibh\\appdata\\local\\programs\\python\\python39\\lib\\site-packages (from qiskit) (5.2.0)\n",
      "Requirement already satisfied: typing-extensions in c:\\users\\raibh\\appdata\\local\\programs\\python\\python39\\lib\\site-packages (from qiskit) (4.7.1)\n",
      "Requirement already satisfied: symengine>=0.11 in c:\\users\\raibh\\appdata\\local\\programs\\python\\python39\\lib\\site-packages (from qiskit) (0.11.0)\n",
      "Requirement already satisfied: six>=1.5 in c:\\users\\raibh\\appdata\\local\\programs\\python\\python39\\lib\\site-packages (from python-dateutil>=2.8.0->qiskit) (1.16.0)\n",
      "Requirement already satisfied: pbr!=2.1.0,>=2.0.0 in c:\\users\\raibh\\appdata\\local\\programs\\python\\python39\\lib\\site-packages (from stevedore>=3.0.0->qiskit) (6.0.0)\n",
      "Requirement already satisfied: mpmath<1.4.0,>=1.1.0 in c:\\users\\raibh\\appdata\\local\\programs\\python\\python39\\lib\\site-packages (from sympy>=1.3->qiskit) (1.3.0)\n"
     ]
    },
    {
     "name": "stderr",
     "output_type": "stream",
     "text": [
      "\n",
      "[notice] A new release of pip is available: 24.2 -> 24.3.1\n",
      "[notice] To update, run: python.exe -m pip install --upgrade pip\n"
     ]
    }
   ],
   "source": [
    "!pip install qiskit"
   ]
  },
  {
   "cell_type": "code",
   "execution_count": 4,
   "id": "59b27aa5",
   "metadata": {},
   "outputs": [
    {
     "name": "stdout",
     "output_type": "stream",
     "text": [
      "Found existing installation: qiskit 1.1.0\n",
      "Uninstalling qiskit-1.1.0:\n",
      "  Successfully uninstalled qiskit-1.1.0\n",
      "Found existing installation: qiskit-aer 0.14.2\n",
      "Uninstalling qiskit-aer-0.14.2:\n",
      "  Successfully uninstalled qiskit-aer-0.14.2\n",
      "Note: you may need to restart the kernel to use updated packages.\n"
     ]
    },
    {
     "name": "stderr",
     "output_type": "stream",
     "text": [
      "WARNING: Skipping qiskit-terra as it is not installed.\n",
      "WARNING: Skipping qiskit-ignis as it is not installed.\n",
      "WARNING: Skipping qiskit-aqua as it is not installed.\n",
      "WARNING: Skipping qiskit-ibmq-provider as it is not installed.\n"
     ]
    }
   ],
   "source": [
    "pip uninstall qiskit qiskit-terra qiskit-aer qiskit-ignis qiskit-aqua qiskit-ibmq-provider -y\n"
   ]
  },
  {
   "cell_type": "code",
   "execution_count": 1,
   "id": "cf784b12",
   "metadata": {},
   "outputs": [
    {
     "name": "stdout",
     "output_type": "stream",
     "text": [
      "Collecting qiskit\n",
      "  Downloading qiskit-1.3.0-cp39-abi3-win_amd64.whl.metadata (13 kB)\n",
      "Collecting rustworkx>=0.15.0 (from qiskit)\n",
      "  Downloading rustworkx-0.15.1-cp38-abi3-win_amd64.whl.metadata (10 kB)\n",
      "Requirement already satisfied: numpy<3,>=1.17 in c:\\users\\raibh\\appdata\\local\\programs\\python\\python39\\lib\\site-packages (from qiskit) (1.22.4)\n",
      "Requirement already satisfied: scipy>=1.5 in c:\\users\\raibh\\appdata\\local\\programs\\python\\python39\\lib\\site-packages (from qiskit) (1.7.3)\n",
      "Requirement already satisfied: sympy>=1.3 in c:\\users\\raibh\\appdata\\local\\programs\\python\\python39\\lib\\site-packages (from qiskit) (1.12.1)\n",
      "Requirement already satisfied: dill>=0.3 in c:\\users\\raibh\\appdata\\local\\programs\\python\\python39\\lib\\site-packages (from qiskit) (0.3.8)\n",
      "Requirement already satisfied: python-dateutil>=2.8.0 in c:\\users\\raibh\\appdata\\local\\programs\\python\\python39\\lib\\site-packages (from qiskit) (2.8.2)\n",
      "Requirement already satisfied: stevedore>=3.0.0 in c:\\users\\raibh\\appdata\\local\\programs\\python\\python39\\lib\\site-packages (from qiskit) (5.2.0)\n",
      "Requirement already satisfied: typing-extensions in c:\\users\\raibh\\appdata\\local\\programs\\python\\python39\\lib\\site-packages (from qiskit) (4.7.1)\n",
      "Requirement already satisfied: symengine<0.14,>=0.11 in c:\\users\\raibh\\appdata\\local\\programs\\python\\python39\\lib\\site-packages (from qiskit) (0.11.0)\n",
      "Requirement already satisfied: six>=1.5 in c:\\users\\raibh\\appdata\\local\\programs\\python\\python39\\lib\\site-packages (from python-dateutil>=2.8.0->qiskit) (1.16.0)\n",
      "Requirement already satisfied: pbr!=2.1.0,>=2.0.0 in c:\\users\\raibh\\appdata\\local\\programs\\python\\python39\\lib\\site-packages (from stevedore>=3.0.0->qiskit) (6.0.0)\n",
      "Requirement already satisfied: mpmath<1.4.0,>=1.1.0 in c:\\users\\raibh\\appdata\\local\\programs\\python\\python39\\lib\\site-packages (from sympy>=1.3->qiskit) (1.3.0)\n",
      "Downloading qiskit-1.3.0-cp39-abi3-win_amd64.whl (6.5 MB)\n",
      "   ---------------------------------------- 0.0/6.5 MB ? eta -:--:--\n",
      "   ---------------------------------------- 0.0/6.5 MB ? eta -:--:--\n",
      "   ---------------------------------------- 0.0/6.5 MB ? eta -:--:--\n",
      "   - -------------------------------------- 0.3/6.5 MB ? eta -:--:--\n",
      "   --- ------------------------------------ 0.5/6.5 MB 621.2 kB/s eta 0:00:10\n",
      "   --- ------------------------------------ 0.5/6.5 MB 621.2 kB/s eta 0:00:10\n",
      "   ---- ----------------------------------- 0.8/6.5 MB 610.3 kB/s eta 0:00:10\n",
      "   ---- ----------------------------------- 0.8/6.5 MB 610.3 kB/s eta 0:00:10\n",
      "   ------ --------------------------------- 1.0/6.5 MB 621.2 kB/s eta 0:00:09\n",
      "   ------ --------------------------------- 1.0/6.5 MB 621.2 kB/s eta 0:00:09\n",
      "   -------- ------------------------------- 1.3/6.5 MB 615.7 kB/s eta 0:00:09\n",
      "   -------- ------------------------------- 1.3/6.5 MB 615.7 kB/s eta 0:00:09\n",
      "   --------- ------------------------------ 1.6/6.5 MB 616.8 kB/s eta 0:00:08\n",
      "   --------- ------------------------------ 1.6/6.5 MB 616.8 kB/s eta 0:00:08\n",
      "   ----------- ---------------------------- 1.8/6.5 MB 613.9 kB/s eta 0:00:08\n",
      "   ----------- ---------------------------- 1.8/6.5 MB 613.9 kB/s eta 0:00:08\n",
      "   ------------ --------------------------- 2.1/6.5 MB 614.9 kB/s eta 0:00:08\n",
      "   ------------ --------------------------- 2.1/6.5 MB 614.9 kB/s eta 0:00:08\n",
      "   -------------- ------------------------- 2.4/6.5 MB 615.7 kB/s eta 0:00:07\n",
      "   -------------- ------------------------- 2.4/6.5 MB 615.7 kB/s eta 0:00:07\n",
      "   ---------------- ----------------------- 2.6/6.5 MB 613.8 kB/s eta 0:00:07\n",
      "   ---------------- ----------------------- 2.6/6.5 MB 613.8 kB/s eta 0:00:07\n",
      "   ----------------- ---------------------- 2.9/6.5 MB 616.8 kB/s eta 0:00:06\n",
      "   ----------------- ---------------------- 2.9/6.5 MB 616.8 kB/s eta 0:00:06\n",
      "   ------------------- -------------------- 3.1/6.5 MB 613.1 kB/s eta 0:00:06\n",
      "   ------------------- -------------------- 3.1/6.5 MB 613.1 kB/s eta 0:00:06\n",
      "   --------------------- ------------------ 3.4/6.5 MB 613.8 kB/s eta 0:00:06\n",
      "   --------------------- ------------------ 3.4/6.5 MB 613.8 kB/s eta 0:00:06\n",
      "   ---------------------- ----------------- 3.7/6.5 MB 614.4 kB/s eta 0:00:05\n",
      "   ---------------------- ----------------- 3.7/6.5 MB 614.4 kB/s eta 0:00:05\n",
      "   ------------------------ --------------- 3.9/6.5 MB 614.8 kB/s eta 0:00:05\n",
      "   ------------------------ --------------- 3.9/6.5 MB 614.8 kB/s eta 0:00:05\n",
      "   ------------------------- -------------- 4.2/6.5 MB 615.3 kB/s eta 0:00:04\n",
      "   ------------------------- -------------- 4.2/6.5 MB 615.3 kB/s eta 0:00:04\n",
      "   --------------------------- ------------ 4.5/6.5 MB 614.3 kB/s eta 0:00:04\n",
      "   --------------------------- ------------ 4.5/6.5 MB 614.3 kB/s eta 0:00:04\n",
      "   ----------------------------- ---------- 4.7/6.5 MB 613.3 kB/s eta 0:00:03\n",
      "   ----------------------------- ---------- 4.7/6.5 MB 613.3 kB/s eta 0:00:03\n",
      "   ------------------------------ --------- 5.0/6.5 MB 613.8 kB/s eta 0:00:03\n",
      "   ------------------------------ --------- 5.0/6.5 MB 613.8 kB/s eta 0:00:03\n",
      "   -------------------------------- ------- 5.2/6.5 MB 613.0 kB/s eta 0:00:03\n",
      "   -------------------------------- ------- 5.2/6.5 MB 613.0 kB/s eta 0:00:03\n",
      "   --------------------------------- ------ 5.5/6.5 MB 613.4 kB/s eta 0:00:02\n",
      "   --------------------------------- ------ 5.5/6.5 MB 613.4 kB/s eta 0:00:02\n",
      "   ----------------------------------- ---- 5.8/6.5 MB 612.8 kB/s eta 0:00:02\n",
      "   ----------------------------------- ---- 5.8/6.5 MB 612.8 kB/s eta 0:00:02\n",
      "   ------------------------------------- -- 6.0/6.5 MB 612.1 kB/s eta 0:00:01\n",
      "   ------------------------------------- -- 6.0/6.5 MB 612.1 kB/s eta 0:00:01\n",
      "   -------------------------------------- - 6.3/6.5 MB 610.6 kB/s eta 0:00:01\n",
      "   -------------------------------------- - 6.3/6.5 MB 610.6 kB/s eta 0:00:01\n",
      "   ---------------------------------------- 6.5/6.5 MB 600.7 kB/s eta 0:00:00\n",
      "Downloading rustworkx-0.15.1-cp38-abi3-win_amd64.whl (1.8 MB)\n",
      "   ---------------------------------------- 0.0/1.8 MB ? eta -:--:--\n",
      "   ---------------------------------------- 0.0/1.8 MB ? eta -:--:--\n",
      "   ---------------------------------------- 0.0/1.8 MB ? eta -:--:--\n",
      "   ----- ---------------------------------- 0.3/1.8 MB ? eta -:--:--\n",
      "   ----------- ---------------------------- 0.5/1.8 MB 645.7 kB/s eta 0:00:03\n",
      "   ----------- ---------------------------- 0.5/1.8 MB 645.7 kB/s eta 0:00:03\n",
      "   ----------------- ---------------------- 0.8/1.8 MB 645.7 kB/s eta 0:00:02\n",
      "   ----------------- ---------------------- 0.8/1.8 MB 645.7 kB/s eta 0:00:02\n",
      "   ---------------------- ----------------- 1.0/1.8 MB 629.1 kB/s eta 0:00:02\n",
      "   ---------------------- ----------------- 1.0/1.8 MB 629.1 kB/s eta 0:00:02\n",
      "   ---------------------------- ----------- 1.3/1.8 MB 621.6 kB/s eta 0:00:01\n",
      "   ---------------------------- ----------- 1.3/1.8 MB 621.6 kB/s eta 0:00:01\n",
      "   ---------------------------------- ----- 1.6/1.8 MB 616.8 kB/s eta 0:00:01\n",
      "   ---------------------------------- ----- 1.6/1.8 MB 616.8 kB/s eta 0:00:01\n",
      "   ---------------------------------------  1.8/1.8 MB 617.5 kB/s eta 0:00:01\n",
      "   ---------------------------------------- 1.8/1.8 MB 601.3 kB/s eta 0:00:00\n",
      "Installing collected packages: rustworkx, qiskit\n",
      "  Attempting uninstall: rustworkx\n",
      "    Found existing installation: rustworkx 0.14.2\n",
      "    Uninstalling rustworkx-0.14.2:\n",
      "      Successfully uninstalled rustworkx-0.14.2\n",
      "Successfully installed qiskit-1.3.0 rustworkx-0.15.1\n"
     ]
    },
    {
     "name": "stderr",
     "output_type": "stream",
     "text": [
      "\n",
      "[notice] A new release of pip is available: 24.2 -> 24.3.1\n",
      "[notice] To update, run: python.exe -m pip install --upgrade pip\n"
     ]
    }
   ],
   "source": [
    "!pip install qiskit\n"
   ]
  },
  {
   "cell_type": "code",
   "execution_count": 1,
   "id": "f21f84ad",
   "metadata": {},
   "outputs": [],
   "source": [
    "import qiskit\n",
    "\n"
   ]
  },
  {
   "cell_type": "code",
   "execution_count": 4,
   "id": "53d9b101",
   "metadata": {},
   "outputs": [
    {
     "name": "stdout",
     "output_type": "stream",
     "text": [
      "Collecting qiskit-aer\n",
      "  Downloading qiskit_aer-0.15.1-cp39-cp39-win_amd64.whl.metadata (8.2 kB)\n",
      "Requirement already satisfied: qiskit>=1.1.0 in c:\\users\\raibh\\appdata\\local\\programs\\python\\python39\\lib\\site-packages (from qiskit-aer) (1.3.0)\n",
      "Requirement already satisfied: numpy>=1.16.3 in c:\\users\\raibh\\appdata\\local\\programs\\python\\python39\\lib\\site-packages (from qiskit-aer) (1.22.4)\n",
      "Requirement already satisfied: scipy>=1.0 in c:\\users\\raibh\\appdata\\local\\programs\\python\\python39\\lib\\site-packages (from qiskit-aer) (1.7.3)\n",
      "Requirement already satisfied: psutil>=5 in c:\\users\\raibh\\appdata\\local\\programs\\python\\python39\\lib\\site-packages (from qiskit-aer) (5.9.4)\n",
      "Requirement already satisfied: rustworkx>=0.15.0 in c:\\users\\raibh\\appdata\\local\\programs\\python\\python39\\lib\\site-packages (from qiskit>=1.1.0->qiskit-aer) (0.15.1)\n",
      "Requirement already satisfied: sympy>=1.3 in c:\\users\\raibh\\appdata\\local\\programs\\python\\python39\\lib\\site-packages (from qiskit>=1.1.0->qiskit-aer) (1.12.1)\n",
      "Requirement already satisfied: dill>=0.3 in c:\\users\\raibh\\appdata\\local\\programs\\python\\python39\\lib\\site-packages (from qiskit>=1.1.0->qiskit-aer) (0.3.8)\n",
      "Requirement already satisfied: python-dateutil>=2.8.0 in c:\\users\\raibh\\appdata\\local\\programs\\python\\python39\\lib\\site-packages (from qiskit>=1.1.0->qiskit-aer) (2.8.2)\n",
      "Requirement already satisfied: stevedore>=3.0.0 in c:\\users\\raibh\\appdata\\local\\programs\\python\\python39\\lib\\site-packages (from qiskit>=1.1.0->qiskit-aer) (5.2.0)\n",
      "Requirement already satisfied: typing-extensions in c:\\users\\raibh\\appdata\\local\\programs\\python\\python39\\lib\\site-packages (from qiskit>=1.1.0->qiskit-aer) (4.7.1)\n",
      "Requirement already satisfied: symengine<0.14,>=0.11 in c:\\users\\raibh\\appdata\\local\\programs\\python\\python39\\lib\\site-packages (from qiskit>=1.1.0->qiskit-aer) (0.11.0)\n",
      "Requirement already satisfied: six>=1.5 in c:\\users\\raibh\\appdata\\local\\programs\\python\\python39\\lib\\site-packages (from python-dateutil>=2.8.0->qiskit>=1.1.0->qiskit-aer) (1.16.0)\n",
      "Requirement already satisfied: pbr!=2.1.0,>=2.0.0 in c:\\users\\raibh\\appdata\\local\\programs\\python\\python39\\lib\\site-packages (from stevedore>=3.0.0->qiskit>=1.1.0->qiskit-aer) (6.0.0)\n",
      "Requirement already satisfied: mpmath<1.4.0,>=1.1.0 in c:\\users\\raibh\\appdata\\local\\programs\\python\\python39\\lib\\site-packages (from sympy>=1.3->qiskit>=1.1.0->qiskit-aer) (1.3.0)\n",
      "Downloading qiskit_aer-0.15.1-cp39-cp39-win_amd64.whl (9.5 MB)\n",
      "   ---------------------------------------- 0.0/9.5 MB ? eta -:--:--\n",
      "   ---------------------------------------- 0.0/9.5 MB ? eta -:--:--\n",
      "   ---------------------------------------- 0.0/9.5 MB ? eta -:--:--\n",
      "   - -------------------------------------- 0.3/9.5 MB ? eta -:--:--\n",
      "   - -------------------------------------- 0.3/9.5 MB ? eta -:--:--\n",
      "   -- ------------------------------------- 0.5/9.5 MB 598.5 kB/s eta 0:00:16\n",
      "   -- ------------------------------------- 0.5/9.5 MB 598.5 kB/s eta 0:00:16\n",
      "   -- ------------------------------------- 0.5/9.5 MB 598.5 kB/s eta 0:00:16\n",
      "   --- ------------------------------------ 0.8/9.5 MB 430.1 kB/s eta 0:00:21\n",
      "   ---- ----------------------------------- 1.0/9.5 MB 592.2 kB/s eta 0:00:15\n",
      "   ---- ----------------------------------- 1.0/9.5 MB 592.2 kB/s eta 0:00:15\n",
      "   ----- ---------------------------------- 1.3/9.5 MB 604.4 kB/s eta 0:00:14\n",
      "   ----- ---------------------------------- 1.3/9.5 MB 604.4 kB/s eta 0:00:14\n",
      "   ------ --------------------------------- 1.6/9.5 MB 607.7 kB/s eta 0:00:14\n",
      "   ------ --------------------------------- 1.6/9.5 MB 607.7 kB/s eta 0:00:14\n",
      "   ------- -------------------------------- 1.8/9.5 MB 610.1 kB/s eta 0:00:13\n",
      "   ------- -------------------------------- 1.8/9.5 MB 610.1 kB/s eta 0:00:13\n",
      "   -------- ------------------------------- 2.1/9.5 MB 611.7 kB/s eta 0:00:13\n",
      "   -------- ------------------------------- 2.1/9.5 MB 611.7 kB/s eta 0:00:13\n",
      "   --------- ------------------------------ 2.4/9.5 MB 612.8 kB/s eta 0:00:12\n",
      "   --------- ------------------------------ 2.4/9.5 MB 612.8 kB/s eta 0:00:12\n",
      "   ----------- ---------------------------- 2.6/9.5 MB 613.8 kB/s eta 0:00:12\n",
      "   ----------- ---------------------------- 2.6/9.5 MB 613.8 kB/s eta 0:00:12\n",
      "   ------------ --------------------------- 2.9/9.5 MB 612.2 kB/s eta 0:00:11\n",
      "   ------------ --------------------------- 2.9/9.5 MB 612.2 kB/s eta 0:00:11\n",
      "   ------------- -------------------------- 3.1/9.5 MB 611.1 kB/s eta 0:00:11\n",
      "   ------------- -------------------------- 3.1/9.5 MB 611.1 kB/s eta 0:00:11\n",
      "   -------------- ------------------------- 3.4/9.5 MB 611.9 kB/s eta 0:00:10\n",
      "   -------------- ------------------------- 3.4/9.5 MB 611.9 kB/s eta 0:00:10\n",
      "   --------------- ------------------------ 3.7/9.5 MB 612.6 kB/s eta 0:00:10\n",
      "   --------------- ------------------------ 3.7/9.5 MB 612.6 kB/s eta 0:00:10\n",
      "   ---------------- ----------------------- 3.9/9.5 MB 613.2 kB/s eta 0:00:10\n",
      "   ---------------- ----------------------- 3.9/9.5 MB 613.2 kB/s eta 0:00:10\n",
      "   ----------------- ---------------------- 4.2/9.5 MB 612.3 kB/s eta 0:00:09\n",
      "   ------------------ --------------------- 4.5/9.5 MB 612.8 kB/s eta 0:00:09\n",
      "   ------------------ --------------------- 4.5/9.5 MB 612.8 kB/s eta 0:00:09\n",
      "   ------------------- -------------------- 4.7/9.5 MB 614.7 kB/s eta 0:00:08\n",
      "   ------------------- -------------------- 4.7/9.5 MB 614.7 kB/s eta 0:00:08\n",
      "   -------------------- ------------------- 5.0/9.5 MB 616.2 kB/s eta 0:00:08\n",
      "   -------------------- ------------------- 5.0/9.5 MB 616.2 kB/s eta 0:00:08\n",
      "   ---------------------- ----------------- 5.2/9.5 MB 615.4 kB/s eta 0:00:07\n",
      "   ---------------------- ----------------- 5.2/9.5 MB 615.4 kB/s eta 0:00:07\n",
      "   ----------------------- ---------------- 5.5/9.5 MB 615.6 kB/s eta 0:00:07\n",
      "   ----------------------- ---------------- 5.5/9.5 MB 615.6 kB/s eta 0:00:07\n",
      "   ------------------------ --------------- 5.8/9.5 MB 617.0 kB/s eta 0:00:07\n",
      "   ------------------------ --------------- 5.8/9.5 MB 617.0 kB/s eta 0:00:07\n",
      "   ------------------------- -------------- 6.0/9.5 MB 617.2 kB/s eta 0:00:06\n",
      "   ------------------------- -------------- 6.0/9.5 MB 617.2 kB/s eta 0:00:06\n",
      "   -------------------------- ------------- 6.3/9.5 MB 616.4 kB/s eta 0:00:06\n",
      "   -------------------------- ------------- 6.3/9.5 MB 616.4 kB/s eta 0:00:06\n",
      "   --------------------------- ------------ 6.6/9.5 MB 616.6 kB/s eta 0:00:05\n",
      "   --------------------------- ------------ 6.6/9.5 MB 616.6 kB/s eta 0:00:05\n",
      "   ---------------------------- ----------- 6.8/9.5 MB 617.7 kB/s eta 0:00:05\n",
      "   ---------------------------- ----------- 6.8/9.5 MB 617.7 kB/s eta 0:00:05\n",
      "   ----------------------------- ---------- 7.1/9.5 MB 617.8 kB/s eta 0:00:04\n",
      "   ----------------------------- ---------- 7.1/9.5 MB 617.8 kB/s eta 0:00:04\n",
      "   ------------------------------ --------- 7.3/9.5 MB 617.1 kB/s eta 0:00:04\n",
      "   ------------------------------ --------- 7.3/9.5 MB 617.1 kB/s eta 0:00:04\n",
      "   ------------------------------- -------- 7.6/9.5 MB 617.3 kB/s eta 0:00:04\n",
      "   ------------------------------- -------- 7.6/9.5 MB 617.3 kB/s eta 0:00:04\n",
      "   --------------------------------- ------ 7.9/9.5 MB 618.2 kB/s eta 0:00:03\n",
      "   --------------------------------- ------ 7.9/9.5 MB 618.2 kB/s eta 0:00:03\n",
      "   ---------------------------------- ----- 8.1/9.5 MB 618.3 kB/s eta 0:00:03\n",
      "   ---------------------------------- ----- 8.1/9.5 MB 618.3 kB/s eta 0:00:03\n",
      "   ----------------------------------- ---- 8.4/9.5 MB 618.4 kB/s eta 0:00:02\n",
      "   ----------------------------------- ---- 8.4/9.5 MB 618.4 kB/s eta 0:00:02\n",
      "   ------------------------------------ --- 8.7/9.5 MB 617.8 kB/s eta 0:00:02\n",
      "   ------------------------------------- -- 8.9/9.5 MB 618.6 kB/s eta 0:00:01\n",
      "   ------------------------------------- -- 8.9/9.5 MB 618.6 kB/s eta 0:00:01\n",
      "   -------------------------------------- - 9.2/9.5 MB 618.6 kB/s eta 0:00:01\n",
      "   -------------------------------------- - 9.2/9.5 MB 618.6 kB/s eta 0:00:01\n",
      "   ---------------------------------------  9.4/9.5 MB 618.8 kB/s eta 0:00:01\n",
      "   ---------------------------------------  9.4/9.5 MB 618.8 kB/s eta 0:00:01\n",
      "   ---------------------------------------- 9.5/9.5 MB 608.0 kB/s eta 0:00:00\n",
      "Installing collected packages: qiskit-aer\n",
      "Successfully installed qiskit-aer-0.15.1\n"
     ]
    },
    {
     "name": "stderr",
     "output_type": "stream",
     "text": [
      "\n",
      "[notice] A new release of pip is available: 24.2 -> 24.3.1\n",
      "[notice] To update, run: python.exe -m pip install --upgrade pip\n"
     ]
    }
   ],
   "source": [
    "!pip install qiskit-aer"
   ]
  },
  {
   "cell_type": "code",
   "execution_count": 12,
   "id": "20a8d873",
   "metadata": {},
   "outputs": [
    {
     "name": "stdout",
     "output_type": "stream",
     "text": [
      "Requirement already satisfied: qiskit in c:\\users\\raibh\\appdata\\local\\programs\\python\\python39\\lib\\site-packages (1.3.0)\n",
      "Requirement already satisfied: rustworkx>=0.15.0 in c:\\users\\raibh\\appdata\\local\\programs\\python\\python39\\lib\\site-packages (from qiskit) (0.15.1)\n",
      "Requirement already satisfied: numpy<3,>=1.17 in c:\\users\\raibh\\appdata\\local\\programs\\python\\python39\\lib\\site-packages (from qiskit) (1.22.4)\n",
      "Requirement already satisfied: scipy>=1.5 in c:\\users\\raibh\\appdata\\local\\programs\\python\\python39\\lib\\site-packages (from qiskit) (1.7.3)\n",
      "Requirement already satisfied: sympy>=1.3 in c:\\users\\raibh\\appdata\\local\\programs\\python\\python39\\lib\\site-packages (from qiskit) (1.12.1)\n",
      "Requirement already satisfied: dill>=0.3 in c:\\users\\raibh\\appdata\\local\\programs\\python\\python39\\lib\\site-packages (from qiskit) (0.3.8)\n",
      "Requirement already satisfied: python-dateutil>=2.8.0 in c:\\users\\raibh\\appdata\\local\\programs\\python\\python39\\lib\\site-packages (from qiskit) (2.8.2)\n",
      "Requirement already satisfied: stevedore>=3.0.0 in c:\\users\\raibh\\appdata\\local\\programs\\python\\python39\\lib\\site-packages (from qiskit) (5.2.0)\n",
      "Requirement already satisfied: typing-extensions in c:\\users\\raibh\\appdata\\local\\programs\\python\\python39\\lib\\site-packages (from qiskit) (4.7.1)\n",
      "Requirement already satisfied: symengine<0.14,>=0.11 in c:\\users\\raibh\\appdata\\local\\programs\\python\\python39\\lib\\site-packages (from qiskit) (0.11.0)\n",
      "Requirement already satisfied: six>=1.5 in c:\\users\\raibh\\appdata\\local\\programs\\python\\python39\\lib\\site-packages (from python-dateutil>=2.8.0->qiskit) (1.16.0)\n",
      "Requirement already satisfied: pbr!=2.1.0,>=2.0.0 in c:\\users\\raibh\\appdata\\local\\programs\\python\\python39\\lib\\site-packages (from stevedore>=3.0.0->qiskit) (6.0.0)\n",
      "Requirement already satisfied: mpmath<1.4.0,>=1.1.0 in c:\\users\\raibh\\appdata\\local\\programs\\python\\python39\\lib\\site-packages (from sympy>=1.3->qiskit) (1.3.0)\n"
     ]
    },
    {
     "name": "stderr",
     "output_type": "stream",
     "text": [
      "\n",
      "[notice] A new release of pip is available: 24.2 -> 24.3.1\n",
      "[notice] To update, run: python.exe -m pip install --upgrade pip\n"
     ]
    },
    {
     "name": "stdout",
     "output_type": "stream",
     "text": [
      "Requirement already satisfied: qiskit-aer in c:\\users\\raibh\\appdata\\local\\programs\\python\\python39\\lib\\site-packages (0.15.1)\n",
      "Requirement already satisfied: qiskit>=1.1.0 in c:\\users\\raibh\\appdata\\local\\programs\\python\\python39\\lib\\site-packages (from qiskit-aer) (1.3.0)\n",
      "Requirement already satisfied: numpy>=1.16.3 in c:\\users\\raibh\\appdata\\local\\programs\\python\\python39\\lib\\site-packages (from qiskit-aer) (1.22.4)\n",
      "Requirement already satisfied: scipy>=1.0 in c:\\users\\raibh\\appdata\\local\\programs\\python\\python39\\lib\\site-packages (from qiskit-aer) (1.7.3)\n",
      "Requirement already satisfied: psutil>=5 in c:\\users\\raibh\\appdata\\local\\programs\\python\\python39\\lib\\site-packages (from qiskit-aer) (5.9.4)\n",
      "Requirement already satisfied: rustworkx>=0.15.0 in c:\\users\\raibh\\appdata\\local\\programs\\python\\python39\\lib\\site-packages (from qiskit>=1.1.0->qiskit-aer) (0.15.1)\n",
      "Requirement already satisfied: sympy>=1.3 in c:\\users\\raibh\\appdata\\local\\programs\\python\\python39\\lib\\site-packages (from qiskit>=1.1.0->qiskit-aer) (1.12.1)\n",
      "Requirement already satisfied: dill>=0.3 in c:\\users\\raibh\\appdata\\local\\programs\\python\\python39\\lib\\site-packages (from qiskit>=1.1.0->qiskit-aer) (0.3.8)\n",
      "Requirement already satisfied: python-dateutil>=2.8.0 in c:\\users\\raibh\\appdata\\local\\programs\\python\\python39\\lib\\site-packages (from qiskit>=1.1.0->qiskit-aer) (2.8.2)\n",
      "Requirement already satisfied: stevedore>=3.0.0 in c:\\users\\raibh\\appdata\\local\\programs\\python\\python39\\lib\\site-packages (from qiskit>=1.1.0->qiskit-aer) (5.2.0)\n",
      "Requirement already satisfied: typing-extensions in c:\\users\\raibh\\appdata\\local\\programs\\python\\python39\\lib\\site-packages (from qiskit>=1.1.0->qiskit-aer) (4.7.1)\n",
      "Requirement already satisfied: symengine<0.14,>=0.11 in c:\\users\\raibh\\appdata\\local\\programs\\python\\python39\\lib\\site-packages (from qiskit>=1.1.0->qiskit-aer) (0.11.0)\n",
      "Requirement already satisfied: six>=1.5 in c:\\users\\raibh\\appdata\\local\\programs\\python\\python39\\lib\\site-packages (from python-dateutil>=2.8.0->qiskit>=1.1.0->qiskit-aer) (1.16.0)\n",
      "Requirement already satisfied: pbr!=2.1.0,>=2.0.0 in c:\\users\\raibh\\appdata\\local\\programs\\python\\python39\\lib\\site-packages (from stevedore>=3.0.0->qiskit>=1.1.0->qiskit-aer) (6.0.0)\n",
      "Requirement already satisfied: mpmath<1.4.0,>=1.1.0 in c:\\users\\raibh\\appdata\\local\\programs\\python\\python39\\lib\\site-packages (from sympy>=1.3->qiskit>=1.1.0->qiskit-aer) (1.3.0)\n"
     ]
    },
    {
     "name": "stderr",
     "output_type": "stream",
     "text": [
      "\n",
      "[notice] A new release of pip is available: 24.2 -> 24.3.1\n",
      "[notice] To update, run: python.exe -m pip install --upgrade pip\n"
     ]
    }
   ],
   "source": [
    "!pip install --upgrade qiskit\n",
    "!pip install --upgrade qiskit-aer"
   ]
  },
  {
   "cell_type": "code",
   "execution_count": 13,
   "id": "0fbee861",
   "metadata": {},
   "outputs": [
    {
     "name": "stdout",
     "output_type": "stream",
     "text": [
      "qiskit                       1.3.0\n",
      "qiskit-aer                   0.15.1\n",
      "qiskit-ibm-runtime           0.24.0\n",
      "Note: you may need to restart the kernel to use updated packages.\n"
     ]
    }
   ],
   "source": [
    "pip list | findstr qiskit\n"
   ]
  },
  {
   "cell_type": "code",
   "execution_count": 2,
   "id": "f4673874",
   "metadata": {},
   "outputs": [],
   "source": [
    "import numpy as np\n",
    "from qiskit import QuantumCircuit, transpile\n",
    "from qiskit_aer import AerSimulator\n",
    "from math import gcd\n",
    "from random import randint\n",
    "from fractions import Fraction"
   ]
  },
  {
   "cell_type": "code",
   "execution_count": 3,
   "id": "2fd9b181",
   "metadata": {},
   "outputs": [],
   "source": [
    "def continued_fraction(x):\n",
    "    cf = []\n",
    "    while x != int(x):\n",
    "        cf.append(int(x))\n",
    "        x = 1 / (x - int(x))\n",
    "    cf.append(int(x))\n",
    "    return cf\n"
   ]
  },
  {
   "cell_type": "code",
   "execution_count": 4,
   "id": "cfd1c849",
   "metadata": {},
   "outputs": [],
   "source": [
    "def best_rational_approximation(cf):\n",
    "    numerator, denominator = 1, 0\n",
    "    for x in reversed(cf):\n",
    "        numerator, denominator = denominator + x * numerator, numerator\n",
    "    return Fraction(numerator, denominator)\n"
   ]
  },
  {
   "cell_type": "code",
   "execution_count": 5,
   "id": "70cee9d1",
   "metadata": {},
   "outputs": [],
   "source": [
    "def is_coprime(a, b):\n",
    "    \"\"\"Check if two numbers are coprime.\"\"\"\n",
    "    return gcd(a, b) == 1"
   ]
  },
  {
   "cell_type": "code",
   "execution_count": 7,
   "id": "4df11c9e",
   "metadata": {},
   "outputs": [],
   "source": [
    "from math import gcd\n",
    "from random import randint\n",
    "\n",
    "def shor_factorize(N):\n",
    "    \"\"\"\n",
    "    Simplified implementation of Shor's algorithm to find a factor of N.\n",
    "    \"\"\"\n",
    "    while True:\n",
    "        # Step 1: Choose a random number 'a' in the range [2, N-1]\n",
    "        a = randint(2, N - 1)\n",
    "        print(f\"Trying with a = {a}\")\n",
    "\n",
    "        # Step 2: Check if 'a' is coprime with N\n",
    "        factor = gcd(a, N)\n",
    "        if factor > 1:\n",
    "            return factor  # Trivial factor found\n",
    "\n",
    "        # Step 3: Find the period 'r' using classical modular arithmetic\n",
    "        r = find_period(a, N)\n",
    "        if r is None or r % 2 != 0:\n",
    "            continue  # Retry if period is invalid or odd\n",
    "\n",
    "        # Step 4: Compute the potential factors using the period\n",
    "        factor1 = gcd(pow(a, r // 2, N) - 1, N)\n",
    "        factor2 = gcd(pow(a, r // 2, N) + 1, N)\n",
    "\n",
    "        if factor1 > 1 and factor1 < N:\n",
    "            return factor1\n",
    "        if factor2 > 1 and factor2 < N:\n",
    "            return factor2\n",
    "\n",
    "\n",
    "def find_period(a, N):\n",
    "    \"\"\"\n",
    "    Classical method to find the period 'r' of the function f(x) = a^x mod N.\n",
    "    \"\"\"\n",
    "    x = 1\n",
    "    value = a % N\n",
    "    while value != 1:\n",
    "        value = (value * a) % N\n",
    "        x += 1\n",
    "        if x > N:  # Prevent infinite loops\n",
    "            return None\n",
    "    return x\n",
    "\n",
    "\n",
    "\n"
   ]
  },
  {
   "cell_type": "code",
   "execution_count": 8,
   "id": "a393465e",
   "metadata": {},
   "outputs": [
    {
     "name": "stdout",
     "output_type": "stream",
     "text": [
      "Trying with a = 11\n",
      "Found factor: 5\n",
      "Trying with a = 2\n",
      "Found factor: 3\n",
      "The factors of 15 are: [3, 5]\n"
     ]
    }
   ],
   "source": [
    "# Example usage with N = 15\n",
    "N = 15\n",
    "factors = set()\n",
    "\n",
    "# Repeat until both factors are found\n",
    "while len(factors) < 2:\n",
    "    factor = shor_factorize(N)\n",
    "    factors.add(factor)\n",
    "    print(f\"Found factor: {factor}\")\n",
    "\n",
    "print(f\"The factors of {N} are: {sorted(factors)}\")"
   ]
  },
  {
   "cell_type": "code",
   "execution_count": null,
   "id": "a23182a0",
   "metadata": {},
   "outputs": [],
   "source": []
  }
 ],
 "metadata": {
  "kernelspec": {
   "display_name": "Python 3 (ipykernel)",
   "language": "python",
   "name": "python3"
  },
  "language_info": {
   "codemirror_mode": {
    "name": "ipython",
    "version": 3
   },
   "file_extension": ".py",
   "mimetype": "text/x-python",
   "name": "python",
   "nbconvert_exporter": "python",
   "pygments_lexer": "ipython3",
   "version": "3.9.6"
  }
 },
 "nbformat": 4,
 "nbformat_minor": 5
}
